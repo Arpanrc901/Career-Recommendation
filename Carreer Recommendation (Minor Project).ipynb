{
 "cells": [
  {
   "cell_type": "code",
   "execution_count": 22,
   "metadata": {},
   "outputs": [],
   "source": [
    "import pandas as pd\n",
    "import numpy as np\n",
    "import matplotlib.pyplot as plt\n",
    "from sklearn.model_selection import train_test_split\n",
    "from sklearn import svm\n",
    "from sklearn.feature_extraction.text import CountVectorizer\n",
    "from sklearn.naive_bayes import MultinomialNB, GaussianNB\n",
    "from sklearn.model_selection import train_test_split\n",
    "from sklearn.feature_extraction.text import TfidfVectorizer\n",
    "from sklearn.metrics.pairwise import linear_kernel\n",
    "from sklearn import preprocessing\n",
    "from sklearn.preprocessing import LabelEncoder\n",
    "from sklearn.preprocessing import StandardScaler"
   ]
  },
  {
   "cell_type": "code",
   "execution_count": 23,
   "metadata": {},
   "outputs": [],
   "source": [
    "#df1=pd.read_csv('pro.csv')\n",
    "df2=pd.read_csv('pro.csv')\n",
    "df2= df2.iloc[:,1:]\n",
    "# df1['Index'] = np.arange(len(df1))\n",
    "# df1.set_index('Index')\n",
    "# import csv\n",
    "df10= df2.iloc[:,:7].join(df2.iloc[:,23:25]).join(df2.iloc[:,26:27]).join(df2.iloc[:,33:34]).join(df2.iloc[:,-1:]) # df1[\"Suggested Job Role\"]\n",
    "#df10.head()"
   ]
  },
  {
   "cell_type": "code",
   "execution_count": 24,
   "metadata": {},
   "outputs": [],
   "source": [
    "from sklearn.utils import shuffle\n",
    "df = shuffle(df10)\n",
    "df= df.dropna()\n",
    "df101=df"
   ]
  },
  {
   "cell_type": "code",
   "execution_count": 25,
   "metadata": {},
   "outputs": [],
   "source": [
    "fitdf= pd.DataFrame(df10.iloc[:,:17])"
   ]
  },
  {
   "cell_type": "code",
   "execution_count": 26,
   "metadata": {},
   "outputs": [
    {
     "data": {
      "text/html": [
       "<div>\n",
       "<style scoped>\n",
       "    .dataframe tbody tr th:only-of-type {\n",
       "        vertical-align: middle;\n",
       "    }\n",
       "\n",
       "    .dataframe tbody tr th {\n",
       "        vertical-align: top;\n",
       "    }\n",
       "\n",
       "    .dataframe thead th {\n",
       "        text-align: right;\n",
       "    }\n",
       "</style>\n",
       "<table border=\"1\" class=\"dataframe\">\n",
       "  <thead>\n",
       "    <tr style=\"text-align: right;\">\n",
       "      <th></th>\n",
       "      <th>Acedamic percentage in Operating Systems</th>\n",
       "      <th>percentage in Algorithms</th>\n",
       "      <th>Percentage in Programming Concepts</th>\n",
       "      <th>Percentage in Software Engineering</th>\n",
       "      <th>Percentage in Computer Networks</th>\n",
       "      <th>Percentage in Electronics Subjects</th>\n",
       "      <th>Percentage in Computer Architecture</th>\n",
       "      <th>Interested subjects</th>\n",
       "      <th>interested career area</th>\n",
       "      <th>Type of company want to settle in?</th>\n",
       "      <th>Management or Technical</th>\n",
       "      <th>Suggested Job Role</th>\n",
       "    </tr>\n",
       "  </thead>\n",
       "  <tbody>\n",
       "    <tr>\n",
       "      <th>0</th>\n",
       "      <td>69</td>\n",
       "      <td>63</td>\n",
       "      <td>78</td>\n",
       "      <td>87</td>\n",
       "      <td>94</td>\n",
       "      <td>94</td>\n",
       "      <td>87</td>\n",
       "      <td>cloud computing</td>\n",
       "      <td>system developer</td>\n",
       "      <td>Web Services</td>\n",
       "      <td>Management</td>\n",
       "      <td>Database Developer</td>\n",
       "    </tr>\n",
       "    <tr>\n",
       "      <th>1</th>\n",
       "      <td>78</td>\n",
       "      <td>62</td>\n",
       "      <td>73</td>\n",
       "      <td>60</td>\n",
       "      <td>71</td>\n",
       "      <td>70</td>\n",
       "      <td>73</td>\n",
       "      <td>networks</td>\n",
       "      <td>Business process analyst</td>\n",
       "      <td>SAaS services</td>\n",
       "      <td>Technical</td>\n",
       "      <td>Portal Administrator</td>\n",
       "    </tr>\n",
       "  </tbody>\n",
       "</table>\n",
       "</div>"
      ],
      "text/plain": [
       "   Acedamic percentage in Operating Systems  percentage in Algorithms  \\\n",
       "0                                        69                        63   \n",
       "1                                        78                        62   \n",
       "\n",
       "   Percentage in Programming Concepts  Percentage in Software Engineering  \\\n",
       "0                                  78                                  87   \n",
       "1                                  73                                  60   \n",
       "\n",
       "   Percentage in Computer Networks  Percentage in Electronics Subjects  \\\n",
       "0                               94                                  94   \n",
       "1                               71                                  70   \n",
       "\n",
       "   Percentage in Computer Architecture Interested subjects  \\\n",
       "0                                   87     cloud computing   \n",
       "1                                   73            networks   \n",
       "\n",
       "     interested career area Type of company want to settle in?  \\\n",
       "0          system developer                       Web Services   \n",
       "1  Business process analyst                      SAaS services   \n",
       "\n",
       "  Management or Technical    Suggested Job Role  \n",
       "0              Management    Database Developer  \n",
       "1               Technical  Portal Administrator  "
      ]
     },
     "execution_count": 26,
     "metadata": {},
     "output_type": "execute_result"
    }
   ],
   "source": [
    "fitdf.head(2)"
   ]
  },
  {
   "cell_type": "code",
   "execution_count": 27,
   "metadata": {
    "scrolled": true
   },
   "outputs": [
    {
     "data": {
      "text/html": [
       "<div>\n",
       "<style scoped>\n",
       "    .dataframe tbody tr th:only-of-type {\n",
       "        vertical-align: middle;\n",
       "    }\n",
       "\n",
       "    .dataframe tbody tr th {\n",
       "        vertical-align: top;\n",
       "    }\n",
       "\n",
       "    .dataframe thead th {\n",
       "        text-align: right;\n",
       "    }\n",
       "</style>\n",
       "<table border=\"1\" class=\"dataframe\">\n",
       "  <thead>\n",
       "    <tr style=\"text-align: right;\">\n",
       "      <th></th>\n",
       "      <th>Acedamic percentage in Operating Systems</th>\n",
       "      <th>percentage in Algorithms</th>\n",
       "      <th>Percentage in Programming Concepts</th>\n",
       "      <th>Percentage in Software Engineering</th>\n",
       "      <th>Percentage in Computer Networks</th>\n",
       "      <th>Percentage in Electronics Subjects</th>\n",
       "      <th>Percentage in Computer Architecture</th>\n",
       "      <th>Interested subjects</th>\n",
       "      <th>interested career area</th>\n",
       "      <th>Type of company want to settle in?</th>\n",
       "      <th>Management or Technical</th>\n",
       "      <th>Suggested Job Role</th>\n",
       "    </tr>\n",
       "  </thead>\n",
       "  <tbody>\n",
       "    <tr>\n",
       "      <th>14262</th>\n",
       "      <td>83</td>\n",
       "      <td>91</td>\n",
       "      <td>72</td>\n",
       "      <td>72</td>\n",
       "      <td>88</td>\n",
       "      <td>94</td>\n",
       "      <td>85</td>\n",
       "      <td>0</td>\n",
       "      <td>3</td>\n",
       "      <td>0</td>\n",
       "      <td>0</td>\n",
       "      <td>10</td>\n",
       "    </tr>\n",
       "    <tr>\n",
       "      <th>2126</th>\n",
       "      <td>61</td>\n",
       "      <td>72</td>\n",
       "      <td>76</td>\n",
       "      <td>84</td>\n",
       "      <td>71</td>\n",
       "      <td>94</td>\n",
       "      <td>79</td>\n",
       "      <td>2</td>\n",
       "      <td>0</td>\n",
       "      <td>2</td>\n",
       "      <td>1</td>\n",
       "      <td>25</td>\n",
       "    </tr>\n",
       "  </tbody>\n",
       "</table>\n",
       "</div>"
      ],
      "text/plain": [
       "       Acedamic percentage in Operating Systems  percentage in Algorithms  \\\n",
       "14262                                        83                        91   \n",
       "2126                                         61                        72   \n",
       "\n",
       "       Percentage in Programming Concepts  Percentage in Software Engineering  \\\n",
       "14262                                  72                                  72   \n",
       "2126                                   76                                  84   \n",
       "\n",
       "       Percentage in Computer Networks  Percentage in Electronics Subjects  \\\n",
       "14262                               88                                  94   \n",
       "2126                                71                                  94   \n",
       "\n",
       "       Percentage in Computer Architecture  Interested subjects  \\\n",
       "14262                                   85                    0   \n",
       "2126                                    79                    2   \n",
       "\n",
       "       interested career area  Type of company want to settle in?  \\\n",
       "14262                       3                                   0   \n",
       "2126                        0                                   2   \n",
       "\n",
       "       Management or Technical  Suggested Job Role  \n",
       "14262                        0                  10  \n",
       "2126                         1                  25  "
      ]
     },
     "execution_count": 27,
     "metadata": {},
     "output_type": "execute_result"
    }
   ],
   "source": [
    "#le = preprocessing.LabelEncoder()\n",
    "#df = df[['Interested subjects', 'interested career area']].apply(le.fit_transform)\n",
    "#df.apply(LabelEncoder().fit_transform)\n",
    "from sklearn.preprocessing import LabelEncoder\n",
    "label_encoder = preprocessing.LabelEncoder()\n",
    "df['Interested subjects']= label_encoder.fit_transform(df['Interested subjects'])\n",
    "df['Interested subjects'].unique()\n",
    "\n",
    "# from sklearn.preprocessing import LabelEncoder\n",
    "label_encoder2 = preprocessing.LabelEncoder()\n",
    "df['interested career area']= label_encoder2.fit_transform(df['interested career area'])\n",
    "df['interested career area'].unique()\n",
    "\n",
    "label_encoder3 = preprocessing.LabelEncoder()\n",
    "df['Suggested Job Role']= label_encoder3.fit_transform(df['Suggested Job Role'])\n",
    "df['Suggested Job Role'].unique()\n",
    "\n",
    "label_encoder3 = preprocessing.LabelEncoder()\n",
    "df['Type of company want to settle in?']= label_encoder3.fit_transform(df['Type of company want to settle in?'])\n",
    "df['Type of company want to settle in?'].unique()\n",
    "\n",
    "label_encoder4 = preprocessing.LabelEncoder()\n",
    "df['Management or Technical']= label_encoder4.fit_transform(df['Management or Technical'])\n",
    "df['Management or Technical'].unique()\n",
    "\n",
    "#labelencoder = LabelEncoder()\n",
    "\n",
    "#df= labelencoder.fit_transform(df)\n",
    "df.iloc[:,:].head(2)"
   ]
  },
  {
   "cell_type": "code",
   "execution_count": 28,
   "metadata": {},
   "outputs": [],
   "source": [
    "train= df[:df.shape[0]*80//100].dropna()\n",
    "test= df[df.shape[0]*80//100:].dropna()"
   ]
  },
  {
   "cell_type": "code",
   "execution_count": 29,
   "metadata": {},
   "outputs": [],
   "source": [
    "X_test= test.iloc[:, :-1]\n",
    "X_train= train.iloc[:, :-1]\n",
    "y_test= test.iloc[:,-1:]\n",
    "y_train= train.iloc[:,-1:]\n",
    "\n",
    "\n",
    "\n",
    "X_train= np.array(X_train)\n",
    "X_test= np.array(X_test)\n",
    "y_train= np.array(y_train)\n",
    "y_test= np.array(y_test)"
   ]
  },
  {
   "cell_type": "code",
   "execution_count": 9,
   "metadata": {},
   "outputs": [
    {
     "name": "stderr",
     "output_type": "stream",
     "text": [
      "C:\\Users\\KIIT\\Anaconda3\\lib\\site-packages\\ipykernel_launcher.py:3: DataConversionWarning: A column-vector y was passed when a 1d array was expected. Please change the shape of y to (n_samples, ), for example using ravel().\n",
      "  This is separate from the ipykernel package so we can avoid doing imports until\n"
     ]
    },
    {
     "data": {
      "text/plain": [
       "3.1939605110336817"
      ]
     },
     "execution_count": 9,
     "metadata": {},
     "output_type": "execute_result"
    }
   ],
   "source": [
    "from sklearn.neighbors import KNeighborsClassifier\n",
    "knn= KNeighborsClassifier(n_neighbors= 11)\n",
    "knn.fit(X_train, y_train)\n",
    "knn.score(X_test,y_test)*100"
   ]
  },
  {
   "cell_type": "code",
   "execution_count": 30,
   "metadata": {},
   "outputs": [
    {
     "name": "stderr",
     "output_type": "stream",
     "text": [
      "C:\\Users\\KIIT\\Anaconda3\\lib\\site-packages\\sklearn\\utils\\validation.py:761: DataConversionWarning: A column-vector y was passed when a 1d array was expected. Please change the shape of y to (n_samples, ), for example using ravel().\n",
      "  y = column_or_1d(y, warn=True)\n"
     ]
    },
    {
     "data": {
      "text/plain": [
       "6.039488966318235"
      ]
     },
     "execution_count": 30,
     "metadata": {},
     "output_type": "execute_result"
    }
   ],
   "source": [
    "from sklearn import svm\n",
    "svc = svm.SVC(kernel='linear', C=1)\n",
    "svc.fit(X_train, y_train)\n",
    "svc.score(X_test, y_test)*100"
   ]
  },
  {
   "cell_type": "code",
   "execution_count": 10,
   "metadata": {},
   "outputs": [
    {
     "name": "stderr",
     "output_type": "stream",
     "text": [
      "C:\\Users\\KIIT\\Anaconda3\\lib\\site-packages\\sklearn\\utils\\validation.py:761: DataConversionWarning: A column-vector y was passed when a 1d array was expected. Please change the shape of y to (n_samples, ), for example using ravel().\n",
      "  y = column_or_1d(y, warn=True)\n"
     ]
    },
    {
     "data": {
      "text/plain": [
       "5.487804878048781"
      ]
     },
     "execution_count": 10,
     "metadata": {},
     "output_type": "execute_result"
    }
   ],
   "source": [
    "from sklearn.naive_bayes import MultinomialNB\n",
    "# scaler = preprocessing.MinMaxScaler()\n",
    "# all_features_minmax = scaler.fit_transform(all_features)\n",
    "nb = MultinomialNB(alpha=0.1)\n",
    "# cv_scores = cross_val_score(clf, all_features_minmax, all_classes, cv=10)\n",
    "nb.fit(X_train, y_train)\n",
    "nb.score(X_test, y_test)*100"
   ]
  },
  {
   "cell_type": "code",
   "execution_count": 11,
   "metadata": {
    "scrolled": true
   },
   "outputs": [
    {
     "name": "stderr",
     "output_type": "stream",
     "text": [
      "C:\\Users\\KIIT\\Anaconda3\\lib\\site-packages\\ipykernel_launcher.py:3: DataConversionWarning: A column-vector y was passed when a 1d array was expected. Please change the shape of y to (n_samples,), for example using ravel().\n",
      "  This is separate from the ipykernel package so we can avoid doing imports until\n"
     ]
    },
    {
     "data": {
      "text/plain": [
       "2.9036004645760745"
      ]
     },
     "execution_count": 11,
     "metadata": {},
     "output_type": "execute_result"
    }
   ],
   "source": [
    "from sklearn.ensemble import RandomForestClassifier\n",
    "ranfor = RandomForestClassifier(n_estimators=10, random_state=10)\n",
    "ranfor.fit(X_train, y_train)\n",
    "ranfor.score(X_test, y_test)*100"
   ]
  },
  {
   "cell_type": "code",
   "execution_count": 12,
   "metadata": {},
   "outputs": [
    {
     "name": "stderr",
     "output_type": "stream",
     "text": [
      "C:\\Users\\KIIT\\Anaconda3\\lib\\site-packages\\sklearn\\utils\\validation.py:761: DataConversionWarning: A column-vector y was passed when a 1d array was expected. Please change the shape of y to (n_samples, ), for example using ravel().\n",
      "  y = column_or_1d(y, warn=True)\n",
      "C:\\Users\\KIIT\\Anaconda3\\lib\\site-packages\\sklearn\\linear_model\\logistic.py:460: FutureWarning: Default multi_class will be changed to 'auto' in 0.22. Specify the multi_class option to silence this warning.\n",
      "  \"this warning.\", FutureWarning)\n",
      "C:\\Users\\KIIT\\Anaconda3\\lib\\site-packages\\sklearn\\linear_model\\sag.py:334: ConvergenceWarning: The max_iter was reached which means the coef_ did not converge\n",
      "  \"the coef_ did not converge\", ConvergenceWarning)\n"
     ]
    },
    {
     "data": {
      "text/plain": [
       "5.720092915214867"
      ]
     },
     "execution_count": 12,
     "metadata": {},
     "output_type": "execute_result"
    }
   ],
   "source": [
    "from sklearn.linear_model import LogisticRegression\n",
    "regressor = LogisticRegression(penalty='l2',solver='saga', random_state=0)\n",
    "regressor.fit(X_train, y_train)\n",
    "regressor.score(X_test, y_test)*100"
   ]
  },
  {
   "cell_type": "code",
   "execution_count": 13,
   "metadata": {
    "scrolled": true
   },
   "outputs": [
    {
     "name": "stderr",
     "output_type": "stream",
     "text": [
      "Using TensorFlow backend.\n"
     ]
    },
    {
     "name": "stdout",
     "output_type": "stream",
     "text": [
      "WARNING:tensorflow:From C:\\Users\\KIIT\\Anaconda3\\lib\\site-packages\\tensorflow\\python\\ops\\math_grad.py:1250: add_dispatch_support.<locals>.wrapper (from tensorflow.python.ops.array_ops) is deprecated and will be removed in a future version.\n",
      "Instructions for updating:\n",
      "Use tf.where in 2.0, which has the same broadcast rule as np.where\n",
      "WARNING:tensorflow:From C:\\Users\\KIIT\\Anaconda3\\lib\\site-packages\\keras\\backend\\tensorflow_backend.py:422: The name tf.global_variables is deprecated. Please use tf.compat.v1.global_variables instead.\n",
      "\n",
      "Train on 13772 samples, validate on 3444 samples\n",
      "Epoch 1/10\n",
      "13772/13772 [==============================] - 6s 404us/step - loss: -238.3243 - accuracy: 0.0279 - val_loss: -233.9521 - val_accuracy: 0.0264\n",
      "Epoch 2/10\n",
      "13772/13772 [==============================] - 5s 331us/step - loss: -238.3243 - accuracy: 0.0279 - val_loss: -233.9521 - val_accuracy: 0.0264\n",
      "Epoch 3/10\n",
      "13772/13772 [==============================] - 5s 334us/step - loss: -238.3243 - accuracy: 0.0279 - val_loss: -233.9521 - val_accuracy: 0.0264\n",
      "Epoch 4/10\n",
      "13772/13772 [==============================] - 5s 344us/step - loss: -238.3243 - accuracy: 0.0279 - val_loss: -233.9521 - val_accuracy: 0.0264\n",
      "Epoch 5/10\n",
      "13772/13772 [==============================] - 5s 342us/step - loss: -238.3243 - accuracy: 0.0279 - val_loss: -233.9521 - val_accuracy: 0.0264\n",
      "Epoch 6/10\n",
      "13772/13772 [==============================] - 5s 364us/step - loss: -238.3243 - accuracy: 0.0279 - val_loss: -233.9521 - val_accuracy: 0.0264\n",
      "Epoch 7/10\n",
      "13772/13772 [==============================] - 5s 383us/step - loss: -238.3243 - accuracy: 0.0279 - val_loss: -233.9521 - val_accuracy: 0.0264\n",
      "Epoch 8/10\n",
      "13772/13772 [==============================] - 5s 352us/step - loss: -238.3243 - accuracy: 0.0279 - val_loss: -233.9521 - val_accuracy: 0.0264\n",
      "Epoch 9/10\n",
      "13772/13772 [==============================] - 5s 345us/step - loss: -238.3243 - accuracy: 0.0279 - val_loss: -233.9521 - val_accuracy: 0.0264\n",
      "Epoch 10/10\n",
      "13772/13772 [==============================] - 5s 345us/step - loss: -238.3243 - accuracy: 0.0279 - val_loss: -233.9521 - val_accuracy: 0.0264\n"
     ]
    }
   ],
   "source": [
    "import keras\n",
    "from keras.models import Sequential\n",
    "from keras.layers import Dense, Dropout, Input, Conv1D, Flatten, MaxPooling1D\n",
    "from keras.optimizers import SGD\n",
    "\n",
    "# input_shape = Input(shape=(X_train.shape[1],))\n",
    "X_train= X_train.reshape(X_train.shape[0], X_train.shape[1],1)\n",
    "X_test= X_test.reshape(X_test.shape[0], X_test.shape[1],1)\n",
    "\n",
    "model = Sequential()\n",
    "model.add(Conv1D(32, 5, activation='relu', input_shape= (11,1)))\n",
    "# model.add(Conv1D(64, 5, activation='relu'))\n",
    "# model.add(Conv1D(32, 5, activation='relu'))\n",
    "model.add(Conv1D(128, 5, activation='relu'))\n",
    "model.add(Dropout(0.2))\n",
    "model.add(Flatten())\n",
    "model.add(Dense(128, activation='relu'))\n",
    "model.add(Dropout(0.1))\n",
    "model.add(Dense(64, activation='relu'))\n",
    "model.add(Dense(1, activation='softmax'))\n",
    "model.compile(loss='binary_crossentropy', optimizer='rmsprop', metrics=['accuracy'])\n",
    "history= model.fit(X_train, y_train, batch_size=16, epochs=10, validation_data=(X_test, y_test))"
   ]
  },
  {
   "cell_type": "code",
   "execution_count": 14,
   "metadata": {},
   "outputs": [
    {
     "name": "stdout",
     "output_type": "stream",
     "text": [
      "3444/3444 [==============================] - 0s 73us/step\n"
     ]
    },
    {
     "data": {
      "text/plain": [
       "2.6422765105962753"
      ]
     },
     "execution_count": 14,
     "metadata": {},
     "output_type": "execute_result"
    }
   ],
   "source": [
    "score, acc = model.evaluate(X_test, y_test, batch_size=32)\n",
    "acc*100"
   ]
  },
  {
   "cell_type": "code",
   "execution_count": 15,
   "metadata": {},
   "outputs": [],
   "source": [
    "jobs= (df2[df.columns[-1]]).tolist()"
   ]
  },
  {
   "cell_type": "code",
   "execution_count": 16,
   "metadata": {},
   "outputs": [],
   "source": [
    "def max5(arr,jobs):\n",
    "    temp=[]\n",
    "    arr=arr.tolist()\n",
    "    for i in range(5):\n",
    "        k=np.argmax(arr)\n",
    "        temp.append(jobs[k])\n",
    "        arr[k]=0\n",
    "    return temp\n"
   ]
  },
  {
   "cell_type": "code",
   "execution_count": 17,
   "metadata": {},
   "outputs": [
    {
     "name": "stdout",
     "output_type": "stream",
     "text": [
      "Suggested Career Path: ['Information Security Analyst', 'CRM Business Analyst', 'Web Developer', 'Web Developer', 'Database Developer']\n"
     ]
    }
   ],
   "source": [
    "lul= int(np.floor(np.random.random()*17217))\n",
    "live= df.iloc[lul:lul+2, :-1]\n",
    "tl=[1, 0,8, 8, 39,77, 69, 80, 'IOT', 'testing','Management']\n",
    "live= pd.concat([live, pd.DataFrame([tl], columns= df.columns[:-1])], sort=False)\n",
    "\n",
    "live_df= live.iloc[:, :8]\n",
    "for i, e in enumerate(live.columns[:]):\n",
    "    if live.dtypes[i] == 'O':\n",
    "        live_df[live.columns[i]]= live[live.columns[i]].astype('category').cat.codes\n",
    "know= ((regressor.predict_proba(live_df)))[2]\n",
    "jobs[np.argmax(know)]\n",
    "\n",
    "\n",
    "print(\"Suggested Career Path: \"+str(max5(know,jobs)))"
   ]
  },
  {
   "cell_type": "code",
   "execution_count": 18,
   "metadata": {},
   "outputs": [
    {
     "data": {
      "text/plain": [
       "['Information Security Analyst',\n",
       " 'CRM Business Analyst',\n",
       " 'Web Developer',\n",
       " 'Web Developer',\n",
       " 'Database Developer']"
      ]
     },
     "execution_count": 18,
     "metadata": {},
     "output_type": "execute_result"
    }
   ],
   "source": [
    "max5(know,jobs)"
   ]
  },
  {
   "cell_type": "markdown",
   "metadata": {},
   "source": [
    "### Correlation between all the columns with \"Suggested Job Role\" column "
   ]
  },
  {
   "cell_type": "code",
   "execution_count": 19,
   "metadata": {},
   "outputs": [
    {
     "name": "stderr",
     "output_type": "stream",
     "text": [
      "C:\\Users\\KIIT\\Anaconda3\\lib\\site-packages\\sklearn\\utils\\validation.py:595: DataConversionWarning: Data with input dtype int64 was converted to float64 by StandardScaler.\n",
      "  warnings.warn(msg, DataConversionWarning)\n",
      "C:\\Users\\KIIT\\Anaconda3\\lib\\site-packages\\sklearn\\utils\\validation.py:595: DataConversionWarning: Data with input dtype int64 was converted to float64 by StandardScaler.\n",
      "  warnings.warn(msg, DataConversionWarning)\n"
     ]
    }
   ],
   "source": [
    "data=df.values\n",
    "scaler=StandardScaler()\n",
    "scaled_data=scaler.fit_transform(data)"
   ]
  },
  {
   "cell_type": "code",
   "execution_count": 20,
   "metadata": {},
   "outputs": [
    {
     "data": {
      "text/plain": [
       "percentage in Algorithms              -0.001393\n",
       "Percentage in Programming Concepts    -0.014130\n",
       "Percentage in Software Engineering     0.006362\n",
       "Percentage in Computer Networks        0.010676\n",
       "Percentage in Electronics Subjects     0.000598\n",
       "Percentage in Computer Architecture    0.002390\n",
       "Interested subjects                   -0.004408\n",
       "interested career area                 0.014960\n",
       "Type of company want to settle in?     0.001892\n",
       "Management or Technical                0.003235\n",
       "Suggested Job Role                     1.000000\n",
       "Name: Suggested Job Role, dtype: float64"
      ]
     },
     "execution_count": 20,
     "metadata": {},
     "output_type": "execute_result"
    }
   ],
   "source": [
    "df[df.columns[1:]].corr()['Suggested Job Role'][:]"
   ]
  },
  {
   "cell_type": "code",
   "execution_count": null,
   "metadata": {},
   "outputs": [],
   "source": []
  }
 ],
 "metadata": {
  "kernelspec": {
   "display_name": "Python 3",
   "language": "python",
   "name": "python3"
  },
  "language_info": {
   "codemirror_mode": {
    "name": "ipython",
    "version": 3
   },
   "file_extension": ".py",
   "mimetype": "text/x-python",
   "name": "python",
   "nbconvert_exporter": "python",
   "pygments_lexer": "ipython3",
   "version": "3.7.3"
  }
 },
 "nbformat": 4,
 "nbformat_minor": 2
}
